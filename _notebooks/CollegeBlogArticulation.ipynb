{
 "cells": [
  {
   "cell_type": "markdown",
   "metadata": {},
   "source": [
    "---\n",
    "layout: post\n",
    "title: College Blog Articulation \n",
    "description: How we incorporated JS Objects, FSM, and SRP into our code. And summarized using Javascript and other larger files. \n",
    "courses: { compsci: {week: 21} }\n",
    "type: hacks\n",
    "---"
   ]
  },
  {
   "cell_type": "markdown",
   "metadata": {},
   "source": [
    "# Game Control Code"
   ]
  }
 ],
 "metadata": {
  "language_info": {
   "name": "python"
  }
 },
 "nbformat": 4,
 "nbformat_minor": 2
}
